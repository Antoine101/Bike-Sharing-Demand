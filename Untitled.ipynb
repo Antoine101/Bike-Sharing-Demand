{
 "cells": [
  {
   "cell_type": "code",
   "execution_count": null,
   "id": "0cbc1031",
   "metadata": {},
   "outputs": [],
   "source": [
    "class DatetimeExtractor(BaseEstimator, TransformerMixin):\n",
    "    def __init__(self, column):\n",
    "        self.column = column\n",
    "    \n",
    "    def fit(self, X, y=None):\n",
    "        return self\n",
    "    \n",
    "    def transform(self, X, y=None):\n",
    "        weekday = X[\"datetime\"].apply(lambda x: x.weekday()+1)\n",
    "        X.insert(loc=3, column=\"weekday\", value=weekday)\n",
    "\n",
    "        hour = X[\"datetime\"].dt.hour\n",
    "        X.insert(loc=6, column=\"hour\", value=hour)\n",
    "        return X\n",
    "    \n",
    "    def get_feature_names_out(self, input_features=No):\n",
    "        return self.X.columns.tolist()"
   ]
  },
  {
   "cell_type": "code",
   "execution_count": null,
   "id": "a8238ace",
   "metadata": {},
   "outputs": [],
   "source": [
    "class CyclicTransformer(BaseEstimator, TransformerMixin):\n",
    "    def __init__(self, cyclic_features):\n",
    "        self.cyclic_features = cyclic_features\n",
    "    \n",
    "    def fit(self, X, y=None):\n",
    "        return self\n",
    "    \n",
    "    def transform(self, X, y=None):\n",
    "        for feature in self.cyclic_features:\n",
    "            max_value = X[feature].max()\n",
    "            X[f\"sin_{feature}\"] = [math.sin((2*math.pi*x)/max_value) for x in list(X[feature])]\n",
    "            X[f\"cos_{feature}\"] = [math.cos((2*math.pi*x)/max_value) for x in list(X[feature])]\n",
    "            X.drop(labels=feature, axis=1, inplace=True)\n",
    "        self.X = X\n",
    "        return X\n",
    "    \n",
    "    def get_feature_names_out(self, input_features=No):\n",
    "        return self.X.columns.tolist()"
   ]
  },
  {
   "cell_type": "code",
   "execution_count": null,
   "id": "ded9a8bb",
   "metadata": {},
   "outputs": [],
   "source": [
    "# Transformer pour les variables numériques standards\n",
    "standard_numeric_transformer = StandardScaler()\n",
    "\n",
    "# Transformer pour les variables numériques cycliques\n",
    "cyclic_numeric_transformer = Pipeline(steps = [\n",
    "    (\"cyclic\", CyclicTransformer(cyclic_features)),\n",
    "    (\"scaler\", StandardScaler())])\n",
    "\n",
    "# Transformer pour les variables catégorielles\n",
    "categorical_transformer = OneHotEncoder(handle_unknown=\"ignore\")\n",
    "\n",
    "\n",
    "# Variables numériques standards\n",
    "standard_numeric_features = [\"atemp\", \"humidity\", \"windspeed\"]\n",
    "\n",
    "# Variables numériques cycliques\n",
    "cyclic_numeric_features = [\"season\", \"weekday\", \"hour\"]\n",
    "\n",
    "# Variables catégorielles\n",
    "categorical_features = [\"holiday\", \"workingday\", \"weather\"]\n",
    "\n",
    "# Instantiation du pré-processeur\n",
    "preprocessor = ColumnTransformer(\n",
    "    transformers=[\n",
    "        (\"cyclic_numeric_transformer\", cyclic_numeric_transformer, cyclic_numeric_features),\n",
    "        (\"standard_numeric_transformer\", standard_numeric_transformer, standard_numeric_features),\n",
    "        (\"categorical_transformer\", categorical_transformer, categorical_features),\n",
    "    ]\n",
    ")"
   ]
  }
 ],
 "metadata": {
  "kernelspec": {
   "display_name": "Python 3 (ipykernel)",
   "language": "python",
   "name": "python3"
  },
  "language_info": {
   "codemirror_mode": {
    "name": "ipython",
    "version": 3
   },
   "file_extension": ".py",
   "mimetype": "text/x-python",
   "name": "python",
   "nbconvert_exporter": "python",
   "pygments_lexer": "ipython3",
   "version": "3.8.12"
  },
  "toc": {
   "base_numbering": 1,
   "nav_menu": {},
   "number_sections": false,
   "sideBar": true,
   "skip_h1_title": true,
   "title_cell": "Table of Contents",
   "title_sidebar": "Contents",
   "toc_cell": true,
   "toc_position": {},
   "toc_section_display": true,
   "toc_window_display": true
  }
 },
 "nbformat": 4,
 "nbformat_minor": 5
}
